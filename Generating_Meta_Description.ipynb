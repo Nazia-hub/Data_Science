{
  "nbformat": 4,
  "nbformat_minor": 0,
  "metadata": {
    "colab": {
      "name": "Generating_Meta-Description.ipynb",
      "provenance": [],
      "collapsed_sections": [],
      "authorship_tag": "ABX9TyO8WzSiGJQKie0k1LPilp7c",
      "include_colab_link": true
    },
    "kernelspec": {
      "name": "python3",
      "display_name": "Python 3"
    },
    "language_info": {
      "name": "python"
    }
  },
  "cells": [
    {
      "cell_type": "markdown",
      "metadata": {
        "id": "view-in-github",
        "colab_type": "text"
      },
      "source": [
        "<a href=\"https://colab.research.google.com/github/Nazia-hub/Data_Science/blob/main/Generating_Meta_Description.ipynb\" target=\"_parent\"><img src=\"https://colab.research.google.com/assets/colab-badge.svg\" alt=\"Open In Colab\"/></a>"
      ]
    },
    {
      "cell_type": "code",
      "metadata": {
        "colab": {
          "base_uri": "https://localhost:8080/",
          "height": 1000
        },
        "id": "CERIk6AJgw7T",
        "outputId": "4aa1fa1c-c512-489f-e1eb-d07b077ac4f1"
      },
      "source": [
        "!pip install -U git+https://github.com/adbar/trafilatura.git\n",
        "!pip install --upgrade pip \n",
        "\n",
        "!pip install spacy\n",
        "!pip install transformers\n",
        "!pip install bert-extractive-summarizer\n",
        "\n",
        "\n",
        "from bs4 import BeautifulSoup\n",
        "\n",
        "import csv\n",
        "import os\n",
        "import requests, sys\n",
        "import pandas as pd\n",
        "import re\n",
        "import numpy as np\n",
        "import trafilatura"
      ],
      "execution_count": null,
      "outputs": [
        {
          "output_type": "stream",
          "text": [
            "Collecting git+https://github.com/adbar/trafilatura.git\n",
            "  Cloning https://github.com/adbar/trafilatura.git to /tmp/pip-req-build-q77vld54\n",
            "  Running command git clone -q https://github.com/adbar/trafilatura.git /tmp/pip-req-build-q77vld54\n",
            "  Resolved https://github.com/adbar/trafilatura.git to commit 8e524da64113c529256c1d6abe5b77253111fbfd\n",
            "Requirement already satisfied: certifi in /usr/local/lib/python3.7/dist-packages (from trafilatura==0.9.1) (2021.5.30)\n",
            "Requirement already satisfied: courlan>=0.4.2 in /usr/local/lib/python3.7/dist-packages (from trafilatura==0.9.1) (0.4.2)\n",
            "Requirement already satisfied: htmldate>=0.9.0 in /usr/local/lib/python3.7/dist-packages (from trafilatura==0.9.1) (0.9.0)\n",
            "Requirement already satisfied: justext>=2.2.0 in /usr/local/lib/python3.7/dist-packages (from trafilatura==0.9.1) (2.2.0)\n",
            "Requirement already satisfied: lxml>=4.6.3 in /usr/local/lib/python3.7/dist-packages (from trafilatura==0.9.1) (4.6.3)\n",
            "Requirement already satisfied: readability-lxml>=0.8.1 in /usr/local/lib/python3.7/dist-packages (from trafilatura==0.9.1) (0.8.1)\n",
            "Requirement already satisfied: urllib3<2,>=1.25 in /usr/local/lib/python3.7/dist-packages (from trafilatura==0.9.1) (1.25.11)\n",
            "Collecting chardet>=4.0.0\n",
            "  Using cached chardet-4.0.0-py2.py3-none-any.whl (178 kB)\n",
            "Requirement already satisfied: tld in /usr/local/lib/python3.7/dist-packages (from courlan>=0.4.2->trafilatura==0.9.1) (0.12.6)\n",
            "Requirement already satisfied: regex>=2021.4.4 in /usr/local/lib/python3.7/dist-packages (from htmldate>=0.9.0->trafilatura==0.9.1) (2021.8.21)\n",
            "Requirement already satisfied: dateparser>=1.0.0 in /usr/local/lib/python3.7/dist-packages (from htmldate>=0.9.0->trafilatura==0.9.1) (1.0.0)\n",
            "Requirement already satisfied: python-dateutil>=2.8.1 in /usr/local/lib/python3.7/dist-packages (from htmldate>=0.9.0->trafilatura==0.9.1) (2.8.2)\n",
            "Requirement already satisfied: tzlocal in /usr/local/lib/python3.7/dist-packages (from dateparser>=1.0.0->htmldate>=0.9.0->trafilatura==0.9.1) (1.5.1)\n",
            "Requirement already satisfied: pytz in /usr/local/lib/python3.7/dist-packages (from dateparser>=1.0.0->htmldate>=0.9.0->trafilatura==0.9.1) (2018.9)\n",
            "Requirement already satisfied: six>=1.5 in /usr/local/lib/python3.7/dist-packages (from python-dateutil>=2.8.1->htmldate>=0.9.0->trafilatura==0.9.1) (1.15.0)\n",
            "Requirement already satisfied: cssselect in /usr/local/lib/python3.7/dist-packages (from readability-lxml>=0.8.1->trafilatura==0.9.1) (1.1.0)\n",
            "Installing collected packages: chardet\n",
            "  Attempting uninstall: chardet\n",
            "    Found existing installation: chardet 3.0.4\n",
            "    Uninstalling chardet-3.0.4:\n",
            "      Successfully uninstalled chardet-3.0.4\n",
            "\u001b[31mERROR: pip's dependency resolver does not currently take into account all the packages that are installed. This behaviour is the source of the following dependency conflicts.\n",
            "requests 2.23.0 requires chardet<4,>=3.0.2, but you have chardet 4.0.0 which is incompatible.\n",
            "datascience 0.10.6 requires folium==0.2.1, but you have folium 0.8.3 which is incompatible.\u001b[0m\n",
            "Successfully installed chardet-4.0.0\n",
            "\u001b[33mWARNING: Running pip as the 'root' user can result in broken permissions and conflicting behaviour with the system package manager. It is recommended to use a virtual environment instead: https://pip.pypa.io/warnings/venv\u001b[0m\n"
          ],
          "name": "stdout"
        },
        {
          "output_type": "display_data",
          "data": {
            "application/vnd.colab-display-data+json": {
              "pip_warning": {
                "packages": [
                  "chardet"
                ]
              }
            }
          },
          "metadata": {}
        },
        {
          "output_type": "stream",
          "text": [
            "Requirement already satisfied: pip in /usr/local/lib/python3.7/dist-packages (21.2.4)\n",
            "\u001b[33mWARNING: Running pip as the 'root' user can result in broken permissions and conflicting behaviour with the system package manager. It is recommended to use a virtual environment instead: https://pip.pypa.io/warnings/venv\u001b[0m\n",
            "Requirement already satisfied: spacy in /usr/local/lib/python3.7/dist-packages (2.2.4)\n",
            "Requirement already satisfied: thinc==7.4.0 in /usr/local/lib/python3.7/dist-packages (from spacy) (7.4.0)\n",
            "Requirement already satisfied: setuptools in /usr/local/lib/python3.7/dist-packages (from spacy) (57.4.0)\n",
            "Requirement already satisfied: tqdm<5.0.0,>=4.38.0 in /usr/local/lib/python3.7/dist-packages (from spacy) (4.62.0)\n",
            "Requirement already satisfied: wasabi<1.1.0,>=0.4.0 in /usr/local/lib/python3.7/dist-packages (from spacy) (0.8.2)\n",
            "Requirement already satisfied: requests<3.0.0,>=2.13.0 in /usr/local/lib/python3.7/dist-packages (from spacy) (2.23.0)\n",
            "Requirement already satisfied: murmurhash<1.1.0,>=0.28.0 in /usr/local/lib/python3.7/dist-packages (from spacy) (1.0.5)\n",
            "Requirement already satisfied: srsly<1.1.0,>=1.0.2 in /usr/local/lib/python3.7/dist-packages (from spacy) (1.0.5)\n",
            "Requirement already satisfied: preshed<3.1.0,>=3.0.2 in /usr/local/lib/python3.7/dist-packages (from spacy) (3.0.5)\n",
            "Requirement already satisfied: cymem<2.1.0,>=2.0.2 in /usr/local/lib/python3.7/dist-packages (from spacy) (2.0.5)\n",
            "Requirement already satisfied: plac<1.2.0,>=0.9.6 in /usr/local/lib/python3.7/dist-packages (from spacy) (1.1.3)\n",
            "Requirement already satisfied: catalogue<1.1.0,>=0.0.7 in /usr/local/lib/python3.7/dist-packages (from spacy) (1.0.0)\n",
            "Requirement already satisfied: blis<0.5.0,>=0.4.0 in /usr/local/lib/python3.7/dist-packages (from spacy) (0.4.1)\n",
            "Requirement already satisfied: numpy>=1.15.0 in /usr/local/lib/python3.7/dist-packages (from spacy) (1.19.5)\n",
            "Requirement already satisfied: importlib-metadata>=0.20 in /usr/local/lib/python3.7/dist-packages (from catalogue<1.1.0,>=0.0.7->spacy) (4.6.4)\n",
            "Requirement already satisfied: zipp>=0.5 in /usr/local/lib/python3.7/dist-packages (from importlib-metadata>=0.20->catalogue<1.1.0,>=0.0.7->spacy) (3.5.0)\n",
            "Requirement already satisfied: typing-extensions>=3.6.4 in /usr/local/lib/python3.7/dist-packages (from importlib-metadata>=0.20->catalogue<1.1.0,>=0.0.7->spacy) (3.7.4.3)\n",
            "Requirement already satisfied: urllib3!=1.25.0,!=1.25.1,<1.26,>=1.21.1 in /usr/local/lib/python3.7/dist-packages (from requests<3.0.0,>=2.13.0->spacy) (1.25.11)\n",
            "Requirement already satisfied: idna<3,>=2.5 in /usr/local/lib/python3.7/dist-packages (from requests<3.0.0,>=2.13.0->spacy) (2.10)\n",
            "Collecting chardet<4,>=3.0.2\n",
            "  Using cached chardet-3.0.4-py2.py3-none-any.whl (133 kB)\n",
            "Requirement already satisfied: certifi>=2017.4.17 in /usr/local/lib/python3.7/dist-packages (from requests<3.0.0,>=2.13.0->spacy) (2021.5.30)\n",
            "Installing collected packages: chardet\n",
            "  Attempting uninstall: chardet\n",
            "    Found existing installation: chardet 4.0.0\n",
            "    Uninstalling chardet-4.0.0:\n",
            "      Successfully uninstalled chardet-4.0.0\n",
            "\u001b[31mERROR: pip's dependency resolver does not currently take into account all the packages that are installed. This behaviour is the source of the following dependency conflicts.\n",
            "trafilatura 0.9.1 requires chardet>=4.0.0; python_version >= \"3.6\", but you have chardet 3.0.4 which is incompatible.\n",
            "htmldate 0.9.0 requires chardet>=4.0.0; python_version >= \"3.6\", but you have chardet 3.0.4 which is incompatible.\n",
            "datascience 0.10.6 requires folium==0.2.1, but you have folium 0.8.3 which is incompatible.\u001b[0m\n",
            "Successfully installed chardet-3.0.4\n",
            "\u001b[33mWARNING: Running pip as the 'root' user can result in broken permissions and conflicting behaviour with the system package manager. It is recommended to use a virtual environment instead: https://pip.pypa.io/warnings/venv\u001b[0m\n"
          ],
          "name": "stdout"
        },
        {
          "output_type": "display_data",
          "data": {
            "application/vnd.colab-display-data+json": {
              "pip_warning": {
                "packages": [
                  "chardet"
                ]
              }
            }
          },
          "metadata": {}
        },
        {
          "output_type": "stream",
          "text": [
            "Requirement already satisfied: transformers in /usr/local/lib/python3.7/dist-packages (4.9.2)\n",
            "Requirement already satisfied: sacremoses in /usr/local/lib/python3.7/dist-packages (from transformers) (0.0.45)\n",
            "Requirement already satisfied: huggingface-hub==0.0.12 in /usr/local/lib/python3.7/dist-packages (from transformers) (0.0.12)\n",
            "Requirement already satisfied: tqdm>=4.27 in /usr/local/lib/python3.7/dist-packages (from transformers) (4.62.0)\n",
            "Requirement already satisfied: filelock in /usr/local/lib/python3.7/dist-packages (from transformers) (3.0.12)\n",
            "Requirement already satisfied: importlib-metadata in /usr/local/lib/python3.7/dist-packages (from transformers) (4.6.4)\n",
            "Requirement already satisfied: tokenizers<0.11,>=0.10.1 in /usr/local/lib/python3.7/dist-packages (from transformers) (0.10.3)\n",
            "Requirement already satisfied: regex!=2019.12.17 in /usr/local/lib/python3.7/dist-packages (from transformers) (2021.8.21)\n",
            "Requirement already satisfied: requests in /usr/local/lib/python3.7/dist-packages (from transformers) (2.23.0)\n",
            "Requirement already satisfied: pyyaml>=5.1 in /usr/local/lib/python3.7/dist-packages (from transformers) (5.4.1)\n",
            "Requirement already satisfied: numpy>=1.17 in /usr/local/lib/python3.7/dist-packages (from transformers) (1.19.5)\n",
            "Requirement already satisfied: packaging in /usr/local/lib/python3.7/dist-packages (from transformers) (21.0)\n",
            "Requirement already satisfied: typing-extensions in /usr/local/lib/python3.7/dist-packages (from huggingface-hub==0.0.12->transformers) (3.7.4.3)\n",
            "Requirement already satisfied: pyparsing>=2.0.2 in /usr/local/lib/python3.7/dist-packages (from packaging->transformers) (2.4.7)\n",
            "Requirement already satisfied: zipp>=0.5 in /usr/local/lib/python3.7/dist-packages (from importlib-metadata->transformers) (3.5.0)\n",
            "Requirement already satisfied: idna<3,>=2.5 in /usr/local/lib/python3.7/dist-packages (from requests->transformers) (2.10)\n",
            "Requirement already satisfied: chardet<4,>=3.0.2 in /usr/local/lib/python3.7/dist-packages (from requests->transformers) (3.0.4)\n",
            "Requirement already satisfied: urllib3!=1.25.0,!=1.25.1,<1.26,>=1.21.1 in /usr/local/lib/python3.7/dist-packages (from requests->transformers) (1.25.11)\n",
            "Requirement already satisfied: certifi>=2017.4.17 in /usr/local/lib/python3.7/dist-packages (from requests->transformers) (2021.5.30)\n",
            "Requirement already satisfied: click in /usr/local/lib/python3.7/dist-packages (from sacremoses->transformers) (7.1.2)\n",
            "Requirement already satisfied: joblib in /usr/local/lib/python3.7/dist-packages (from sacremoses->transformers) (1.0.1)\n",
            "Requirement already satisfied: six in /usr/local/lib/python3.7/dist-packages (from sacremoses->transformers) (1.15.0)\n",
            "\u001b[33mWARNING: Running pip as the 'root' user can result in broken permissions and conflicting behaviour with the system package manager. It is recommended to use a virtual environment instead: https://pip.pypa.io/warnings/venv\u001b[0m\n",
            "Requirement already satisfied: bert-extractive-summarizer in /usr/local/lib/python3.7/dist-packages (0.8.1)\n",
            "Requirement already satisfied: scikit-learn in /usr/local/lib/python3.7/dist-packages (from bert-extractive-summarizer) (0.22.2.post1)\n",
            "Requirement already satisfied: spacy in /usr/local/lib/python3.7/dist-packages (from bert-extractive-summarizer) (2.2.4)\n",
            "Requirement already satisfied: transformers in /usr/local/lib/python3.7/dist-packages (from bert-extractive-summarizer) (4.9.2)\n",
            "Requirement already satisfied: numpy>=1.11.0 in /usr/local/lib/python3.7/dist-packages (from scikit-learn->bert-extractive-summarizer) (1.19.5)\n",
            "Requirement already satisfied: joblib>=0.11 in /usr/local/lib/python3.7/dist-packages (from scikit-learn->bert-extractive-summarizer) (1.0.1)\n",
            "Requirement already satisfied: scipy>=0.17.0 in /usr/local/lib/python3.7/dist-packages (from scikit-learn->bert-extractive-summarizer) (1.4.1)\n",
            "Requirement already satisfied: blis<0.5.0,>=0.4.0 in /usr/local/lib/python3.7/dist-packages (from spacy->bert-extractive-summarizer) (0.4.1)\n",
            "Requirement already satisfied: plac<1.2.0,>=0.9.6 in /usr/local/lib/python3.7/dist-packages (from spacy->bert-extractive-summarizer) (1.1.3)\n",
            "Requirement already satisfied: thinc==7.4.0 in /usr/local/lib/python3.7/dist-packages (from spacy->bert-extractive-summarizer) (7.4.0)\n",
            "Requirement already satisfied: tqdm<5.0.0,>=4.38.0 in /usr/local/lib/python3.7/dist-packages (from spacy->bert-extractive-summarizer) (4.62.0)\n",
            "Requirement already satisfied: catalogue<1.1.0,>=0.0.7 in /usr/local/lib/python3.7/dist-packages (from spacy->bert-extractive-summarizer) (1.0.0)\n",
            "Requirement already satisfied: srsly<1.1.0,>=1.0.2 in /usr/local/lib/python3.7/dist-packages (from spacy->bert-extractive-summarizer) (1.0.5)\n",
            "Requirement already satisfied: setuptools in /usr/local/lib/python3.7/dist-packages (from spacy->bert-extractive-summarizer) (57.4.0)\n",
            "Requirement already satisfied: requests<3.0.0,>=2.13.0 in /usr/local/lib/python3.7/dist-packages (from spacy->bert-extractive-summarizer) (2.23.0)\n",
            "Requirement already satisfied: cymem<2.1.0,>=2.0.2 in /usr/local/lib/python3.7/dist-packages (from spacy->bert-extractive-summarizer) (2.0.5)\n",
            "Requirement already satisfied: wasabi<1.1.0,>=0.4.0 in /usr/local/lib/python3.7/dist-packages (from spacy->bert-extractive-summarizer) (0.8.2)\n",
            "Requirement already satisfied: murmurhash<1.1.0,>=0.28.0 in /usr/local/lib/python3.7/dist-packages (from spacy->bert-extractive-summarizer) (1.0.5)\n",
            "Requirement already satisfied: preshed<3.1.0,>=3.0.2 in /usr/local/lib/python3.7/dist-packages (from spacy->bert-extractive-summarizer) (3.0.5)\n",
            "Requirement already satisfied: importlib-metadata>=0.20 in /usr/local/lib/python3.7/dist-packages (from catalogue<1.1.0,>=0.0.7->spacy->bert-extractive-summarizer) (4.6.4)\n",
            "Requirement already satisfied: zipp>=0.5 in /usr/local/lib/python3.7/dist-packages (from importlib-metadata>=0.20->catalogue<1.1.0,>=0.0.7->spacy->bert-extractive-summarizer) (3.5.0)\n",
            "Requirement already satisfied: typing-extensions>=3.6.4 in /usr/local/lib/python3.7/dist-packages (from importlib-metadata>=0.20->catalogue<1.1.0,>=0.0.7->spacy->bert-extractive-summarizer) (3.7.4.3)\n",
            "Requirement already satisfied: urllib3!=1.25.0,!=1.25.1,<1.26,>=1.21.1 in /usr/local/lib/python3.7/dist-packages (from requests<3.0.0,>=2.13.0->spacy->bert-extractive-summarizer) (1.25.11)\n",
            "Requirement already satisfied: chardet<4,>=3.0.2 in /usr/local/lib/python3.7/dist-packages (from requests<3.0.0,>=2.13.0->spacy->bert-extractive-summarizer) (3.0.4)\n",
            "Requirement already satisfied: idna<3,>=2.5 in /usr/local/lib/python3.7/dist-packages (from requests<3.0.0,>=2.13.0->spacy->bert-extractive-summarizer) (2.10)\n",
            "Requirement already satisfied: certifi>=2017.4.17 in /usr/local/lib/python3.7/dist-packages (from requests<3.0.0,>=2.13.0->spacy->bert-extractive-summarizer) (2021.5.30)\n",
            "Requirement already satisfied: huggingface-hub==0.0.12 in /usr/local/lib/python3.7/dist-packages (from transformers->bert-extractive-summarizer) (0.0.12)\n",
            "Requirement already satisfied: pyyaml>=5.1 in /usr/local/lib/python3.7/dist-packages (from transformers->bert-extractive-summarizer) (5.4.1)\n",
            "Requirement already satisfied: filelock in /usr/local/lib/python3.7/dist-packages (from transformers->bert-extractive-summarizer) (3.0.12)\n",
            "Requirement already satisfied: regex!=2019.12.17 in /usr/local/lib/python3.7/dist-packages (from transformers->bert-extractive-summarizer) (2021.8.21)\n",
            "Requirement already satisfied: tokenizers<0.11,>=0.10.1 in /usr/local/lib/python3.7/dist-packages (from transformers->bert-extractive-summarizer) (0.10.3)\n",
            "Requirement already satisfied: packaging in /usr/local/lib/python3.7/dist-packages (from transformers->bert-extractive-summarizer) (21.0)\n",
            "Requirement already satisfied: sacremoses in /usr/local/lib/python3.7/dist-packages (from transformers->bert-extractive-summarizer) (0.0.45)\n",
            "Requirement already satisfied: pyparsing>=2.0.2 in /usr/local/lib/python3.7/dist-packages (from packaging->transformers->bert-extractive-summarizer) (2.4.7)\n",
            "Requirement already satisfied: click in /usr/local/lib/python3.7/dist-packages (from sacremoses->transformers->bert-extractive-summarizer) (7.1.2)\n",
            "Requirement already satisfied: six in /usr/local/lib/python3.7/dist-packages (from sacremoses->transformers->bert-extractive-summarizer) (1.15.0)\n",
            "\u001b[33mWARNING: Running pip as the 'root' user can result in broken permissions and conflicting behaviour with the system package manager. It is recommended to use a virtual environment instead: https://pip.pypa.io/warnings/venv\u001b[0m\n"
          ],
          "name": "stdout"
        }
      ]
    },
    {
      "cell_type": "code",
      "metadata": {
        "colab": {
          "base_uri": "https://localhost:8080/"
        },
        "id": "dWXqj-r-hYSg",
        "outputId": "2d01af03-8fa7-450b-d789-f71e031f8f00"
      },
      "source": [
        "from google.colab import drive\n",
        "drive.mount('/content/gdrive')\n",
        "# Importing my dataset as dataframe\n",
        "df = pd.read_csv('/content/gdrive/My Drive/Data/metadata.csv', engine='python',header=0,\n",
        "                 encoding=\"utf-8\",index_col= False )"
      ],
      "execution_count": null,
      "outputs": [
        {
          "output_type": "stream",
          "text": [
            "Drive already mounted at /content/gdrive; to attempt to forcibly remount, call drive.mount(\"/content/gdrive\", force_remount=True).\n"
          ],
          "name": "stdout"
        }
      ]
    },
    {
      "cell_type": "code",
      "metadata": {
        "colab": {
          "base_uri": "https://localhost:8080/",
          "height": 206
        },
        "id": "Qg5f1couhs8m",
        "outputId": "6336449c-d6b9-439b-fcf7-e5e5b577d74a"
      },
      "source": [
        "df.head()"
      ],
      "execution_count": null,
      "outputs": [
        {
          "output_type": "execute_result",
          "data": {
            "text/html": [
              "<div>\n",
              "<style scoped>\n",
              "    .dataframe tbody tr th:only-of-type {\n",
              "        vertical-align: middle;\n",
              "    }\n",
              "\n",
              "    .dataframe tbody tr th {\n",
              "        vertical-align: top;\n",
              "    }\n",
              "\n",
              "    .dataframe thead th {\n",
              "        text-align: right;\n",
              "    }\n",
              "</style>\n",
              "<table border=\"1\" class=\"dataframe\">\n",
              "  <thead>\n",
              "    <tr style=\"text-align: right;\">\n",
              "      <th></th>\n",
              "      <th>Unnamed: 0</th>\n",
              "      <th>URL</th>\n",
              "      <th>Description</th>\n",
              "      <th>Keywords</th>\n",
              "    </tr>\n",
              "  </thead>\n",
              "  <tbody>\n",
              "    <tr>\n",
              "      <th>0</th>\n",
              "      <td>0</td>\n",
              "      <td>https://lordjones.com/</td>\n",
              "      <td>Lord Jones provides the World's Finest CBD Pro...</td>\n",
              "      <td>NaN</td>\n",
              "    </tr>\n",
              "    <tr>\n",
              "      <th>1</th>\n",
              "      <td>1</td>\n",
              "      <td>https://www.charlottesweb.com/</td>\n",
              "      <td>Charlotte’s Web CBD ( cannabidiol ) oils conta...</td>\n",
              "      <td>NaN</td>\n",
              "    </tr>\n",
              "    <tr>\n",
              "      <th>2</th>\n",
              "      <td>2</td>\n",
              "      <td>https://www.thecbdistillery.com/</td>\n",
              "      <td>Buy CBD Oil for Sale Online at CBDistillery, A...</td>\n",
              "      <td>NaN</td>\n",
              "    </tr>\n",
              "    <tr>\n",
              "      <th>3</th>\n",
              "      <td>3</td>\n",
              "      <td>https://medterracbd.com/</td>\n",
              "      <td>Medterra takes pride in providing our customer...</td>\n",
              "      <td>cbd, ,  cbd,  cbd,  gel capsule,  hemp,  kentu...</td>\n",
              "    </tr>\n",
              "    <tr>\n",
              "      <th>4</th>\n",
              "      <td>4</td>\n",
              "      <td>https://www.diamondcbd.com/</td>\n",
              "      <td>Shop from America's most trusted CBD Oil and D...</td>\n",
              "      <td>cbd, oils, hemp oil, hemp edibles, cbd edibles...</td>\n",
              "    </tr>\n",
              "  </tbody>\n",
              "</table>\n",
              "</div>"
            ],
            "text/plain": [
              "   Unnamed: 0  ...                                           Keywords\n",
              "0           0  ...                                                NaN\n",
              "1           1  ...                                                NaN\n",
              "2           2  ...                                                NaN\n",
              "3           3  ...  cbd, ,  cbd,  cbd,  gel capsule,  hemp,  kentu...\n",
              "4           4  ...  cbd, oils, hemp oil, hemp edibles, cbd edibles...\n",
              "\n",
              "[5 rows x 4 columns]"
            ]
          },
          "metadata": {},
          "execution_count": 41
        }
      ]
    },
    {
      "cell_type": "code",
      "metadata": {
        "colab": {
          "base_uri": "https://localhost:8080/"
        },
        "id": "UU-gdcXzh0HG",
        "outputId": "d86fcee8-b68a-4f26-cbde-18fa0911682c"
      },
      "source": [
        "!wget 'https://docs.google.com/spreadsheets/d/e/2PACX-1vTGpl7KboITzqC8d-rosX_H4geyib-kHrVtVwrhM9rZSie7X35vYvC8iVJLVwGOYTemC4xm1qduMU8v/pub?gid=662239818&single=true&output=csv'"
      ],
      "execution_count": null,
      "outputs": [
        {
          "output_type": "stream",
          "text": [
            "--2021-08-27 17:32:10--  https://docs.google.com/spreadsheets/d/e/2PACX-1vTGpl7KboITzqC8d-rosX_H4geyib-kHrVtVwrhM9rZSie7X35vYvC8iVJLVwGOYTemC4xm1qduMU8v/pub?gid=662239818&single=true&output=csv\n",
            "Resolving docs.google.com (docs.google.com)... 74.125.204.113, 74.125.204.102, 74.125.204.100, ...\n",
            "Connecting to docs.google.com (docs.google.com)|74.125.204.113|:443... connected.\n",
            "HTTP request sent, awaiting response... 307 Temporary Redirect\n",
            "Location: https://doc-00-b0-sheets.googleusercontent.com/pub/70cmver1f290kjsnpar5ku2h9g/16a70c1s4kleheofs4gvkoi7kc/1630085530000/113000363475040285402/*/e@2PACX-1vTGpl7KboITzqC8d-rosX_H4geyib-kHrVtVwrhM9rZSie7X35vYvC8iVJLVwGOYTemC4xm1qduMU8v?gid=662239818&single=true&output=csv [following]\n",
            "Warning: wildcards not supported in HTTP.\n",
            "--2021-08-27 17:32:11--  https://doc-00-b0-sheets.googleusercontent.com/pub/70cmver1f290kjsnpar5ku2h9g/16a70c1s4kleheofs4gvkoi7kc/1630085530000/113000363475040285402/*/e@2PACX-1vTGpl7KboITzqC8d-rosX_H4geyib-kHrVtVwrhM9rZSie7X35vYvC8iVJLVwGOYTemC4xm1qduMU8v?gid=662239818&single=true&output=csv\n",
            "Resolving doc-00-b0-sheets.googleusercontent.com (doc-00-b0-sheets.googleusercontent.com)... 74.125.204.132, 2404:6800:4008:c04::84\n",
            "Connecting to doc-00-b0-sheets.googleusercontent.com (doc-00-b0-sheets.googleusercontent.com)|74.125.204.132|:443... connected.\n",
            "HTTP request sent, awaiting response... 200 OK\n",
            "Length: unspecified [text/csv]\n",
            "Saving to: ‘pub?gid=662239818&single=true&output=csv.3’\n",
            "\n",
            "pub?gid=662239818&s     [ <=>                ]  97.97K   504KB/s    in 0.2s    \n",
            "\n",
            "2021-08-27 17:32:12 (504 KB/s) - ‘pub?gid=662239818&single=true&output=csv.3’ saved [100324]\n",
            "\n"
          ],
          "name": "stdout"
        }
      ]
    },
    {
      "cell_type": "code",
      "metadata": {
        "colab": {
          "base_uri": "https://localhost:8080/"
        },
        "id": "htZUAjzZh3wS",
        "outputId": "efea173c-d970-4b5d-b76d-c4b27c053bca"
      },
      "source": [
        "df.shape\n",
        "                "
      ],
      "execution_count": null,
      "outputs": [
        {
          "output_type": "execute_result",
          "data": {
            "text/plain": [
              "(11, 4)"
            ]
          },
          "metadata": {},
          "execution_count": 43
        }
      ]
    },
    {
      "cell_type": "code",
      "metadata": {
        "colab": {
          "base_uri": "https://localhost:8080/"
        },
        "id": "09xTZHyQid1Q",
        "outputId": "8103ef60-2195-4b2b-8c9f-9831037e754b"
      },
      "source": [
        "df.isnull().sum()"
      ],
      "execution_count": null,
      "outputs": [
        {
          "output_type": "execute_result",
          "data": {
            "text/plain": [
              "Unnamed: 0     0\n",
              "URL            0\n",
              "Description    0\n",
              "Keywords       7\n",
              "dtype: int64"
            ]
          },
          "metadata": {},
          "execution_count": 44
        }
      ]
    },
    {
      "cell_type": "code",
      "metadata": {
        "id": "OdGh5LsGifU7"
      },
      "source": [
        "df=df.drop(columns=['Unnamed: 0'])"
      ],
      "execution_count": null,
      "outputs": []
    },
    {
      "cell_type": "code",
      "metadata": {
        "colab": {
          "base_uri": "https://localhost:8080/",
          "height": 206
        },
        "id": "EaAF-ceai2q8",
        "outputId": "7518b8f1-c206-4fc1-8339-8e6aed0580e6"
      },
      "source": [
        "df.head()"
      ],
      "execution_count": null,
      "outputs": [
        {
          "output_type": "execute_result",
          "data": {
            "text/html": [
              "<div>\n",
              "<style scoped>\n",
              "    .dataframe tbody tr th:only-of-type {\n",
              "        vertical-align: middle;\n",
              "    }\n",
              "\n",
              "    .dataframe tbody tr th {\n",
              "        vertical-align: top;\n",
              "    }\n",
              "\n",
              "    .dataframe thead th {\n",
              "        text-align: right;\n",
              "    }\n",
              "</style>\n",
              "<table border=\"1\" class=\"dataframe\">\n",
              "  <thead>\n",
              "    <tr style=\"text-align: right;\">\n",
              "      <th></th>\n",
              "      <th>URL</th>\n",
              "      <th>Description</th>\n",
              "      <th>Keywords</th>\n",
              "    </tr>\n",
              "  </thead>\n",
              "  <tbody>\n",
              "    <tr>\n",
              "      <th>0</th>\n",
              "      <td>https://lordjones.com/</td>\n",
              "      <td>Lord Jones provides the World's Finest CBD Pro...</td>\n",
              "      <td>NaN</td>\n",
              "    </tr>\n",
              "    <tr>\n",
              "      <th>1</th>\n",
              "      <td>https://www.charlottesweb.com/</td>\n",
              "      <td>Charlotte’s Web CBD ( cannabidiol ) oils conta...</td>\n",
              "      <td>NaN</td>\n",
              "    </tr>\n",
              "    <tr>\n",
              "      <th>2</th>\n",
              "      <td>https://www.thecbdistillery.com/</td>\n",
              "      <td>Buy CBD Oil for Sale Online at CBDistillery, A...</td>\n",
              "      <td>NaN</td>\n",
              "    </tr>\n",
              "    <tr>\n",
              "      <th>3</th>\n",
              "      <td>https://medterracbd.com/</td>\n",
              "      <td>Medterra takes pride in providing our customer...</td>\n",
              "      <td>cbd, ,  cbd,  cbd,  gel capsule,  hemp,  kentu...</td>\n",
              "    </tr>\n",
              "    <tr>\n",
              "      <th>4</th>\n",
              "      <td>https://www.diamondcbd.com/</td>\n",
              "      <td>Shop from America's most trusted CBD Oil and D...</td>\n",
              "      <td>cbd, oils, hemp oil, hemp edibles, cbd edibles...</td>\n",
              "    </tr>\n",
              "  </tbody>\n",
              "</table>\n",
              "</div>"
            ],
            "text/plain": [
              "                                URL  ...                                           Keywords\n",
              "0            https://lordjones.com/  ...                                                NaN\n",
              "1    https://www.charlottesweb.com/  ...                                                NaN\n",
              "2  https://www.thecbdistillery.com/  ...                                                NaN\n",
              "3          https://medterracbd.com/  ...  cbd, ,  cbd,  cbd,  gel capsule,  hemp,  kentu...\n",
              "4       https://www.diamondcbd.com/  ...  cbd, oils, hemp oil, hemp edibles, cbd edibles...\n",
              "\n",
              "[5 rows x 3 columns]"
            ]
          },
          "metadata": {},
          "execution_count": 46
        }
      ]
    },
    {
      "cell_type": "markdown",
      "metadata": {
        "id": "_5jXqHEBjC8T"
      },
      "source": [
        "## Running the Analysis"
      ]
    },
    {
      "cell_type": "markdown",
      "metadata": {
        "id": "NT-KhjyajJ8U"
      },
      "source": [
        "##### In the next cells we have one function called url_to string to get the text from a URL."
      ]
    },
    {
      "cell_type": "code",
      "metadata": {
        "id": "oyqIEpGyi8qe"
      },
      "source": [
        "# Get clean text from URL\n",
        "\n",
        "\n",
        "def url_to_string(url):\n",
        "  try:\n",
        "    downloaded = trafilatura.fetch_url(url)\n",
        "    if downloaded is not None: # assuming the download was successful\n",
        "      result = trafilatura.extract(downloaded, include_tables=False, include_formatting=False, include_comments=False) \n",
        "    return result\n",
        "  except ValueError as err:\n",
        "    print(err)\n",
        "    sys.exit(1)\n",
        "    return err\n",
        "\n",
        "\n",
        "   "
      ],
      "execution_count": null,
      "outputs": []
    },
    {
      "cell_type": "code",
      "metadata": {
        "colab": {
          "base_uri": "https://localhost:8080/"
        },
        "id": "iw2hj0aqupei",
        "outputId": "e1759a81-9953-4e13-f7c8-0bd31a57255c"
      },
      "source": [
        " # Create a list to store the MDs\n",
        "data_x = [] \n",
        "\n",
        "from summarizer import Summarizer\n",
        "# For each URL in the input CSV run the analysis and store the results in the list \n",
        "for i in range(len(df)):\n",
        "    # Here is the URL to be analyzed\n",
        "    line = df.iloc[i][0]\n",
        "\n",
        "\t# Error handling for HTTP connection problems\n",
        "    try:\n",
        "       body = url_to_string(line)\n",
        "    except:\n",
        "    \tprint('error while fetching', line)\n",
        "    \n",
        "\t# BERT\n",
        "    print(\"Summarizing URL via BERT: \" + line)\n",
        "    model = Summarizer()\n",
        "    result = model(body, min_length=60, ratio=0.005)\n",
        "    full = ''.join(result)\n",
        "    print(full)\n",
        "\n",
        "\t# Storing all values into the list \n",
        "    data_x.append({\"url\":line, \"BERT\":full})"
      ],
      "execution_count": null,
      "outputs": [
        {
          "output_type": "stream",
          "text": [
            "Summarizing URL via BERT: https://lordjones.com/\n"
          ],
          "name": "stdout"
        },
        {
          "output_type": "stream",
          "text": [
            "Some weights of the model checkpoint at bert-large-uncased were not used when initializing BertModel: ['cls.predictions.bias', 'cls.predictions.transform.LayerNorm.bias', 'cls.predictions.transform.dense.weight', 'cls.predictions.transform.LayerNorm.weight', 'cls.seq_relationship.bias', 'cls.predictions.transform.dense.bias', 'cls.seq_relationship.weight', 'cls.predictions.decoder.weight']\n",
            "- This IS expected if you are initializing BertModel from the checkpoint of a model trained on another task or with another architecture (e.g. initializing a BertForSequenceClassification model from a BertForPreTraining model).\n",
            "- This IS NOT expected if you are initializing BertModel from the checkpoint of a model that you expect to be exactly identical (initializing a BertForSequenceClassification model from a BertForSequenceClassification model).\n"
          ],
          "name": "stderr"
        },
        {
          "output_type": "stream",
          "text": [
            "Best Sellers\n",
            "- Travel-Size High CBD Formula Bath Salts\n",
            "Travel-Size High CBD Formula Bath Salts\n",
            "- The Lord Jones Pride Sweatshirt\n",
            "The Lord Jones Pride Sweatshirt\n",
            "- Old Fashioned Gumdrops\n",
            "Old Fashioned Gumdrops\n",
            "- Royal Oil 500mg Hemp-Derived CBD\n",
            "Royal Oil 500mg Hemp-Derived CBD\n",
            "- Acid Mantle Repair Moisturizer\n",
            "Acid Mantle Repair Moisturizer\n",
            "- Hemp-Derived CBD Gel Capsules\n",
            "Hemp-Derived CBD Gel Capsules\n",
            "- Hemp-Derived CBD Tinctures\n",
            "Hemp-Derived CBD Tinctures\n",
            "- Body Lotions\n",
            "Body Lotions\n",
            "- Bath Salts\n",
            "Bath Salts\n",
            "Summarizing URL via BERT: https://www.charlottesweb.com/\n"
          ],
          "name": "stdout"
        },
        {
          "output_type": "stream",
          "text": [
            "Some weights of the model checkpoint at bert-large-uncased were not used when initializing BertModel: ['cls.predictions.bias', 'cls.predictions.transform.LayerNorm.bias', 'cls.predictions.transform.dense.weight', 'cls.predictions.transform.LayerNorm.weight', 'cls.seq_relationship.bias', 'cls.predictions.transform.dense.bias', 'cls.seq_relationship.weight', 'cls.predictions.decoder.weight']\n",
            "- This IS expected if you are initializing BertModel from the checkpoint of a model trained on another task or with another architecture (e.g. initializing a BertForSequenceClassification model from a BertForPreTraining model).\n",
            "- This IS NOT expected if you are initializing BertModel from the checkpoint of a model that you expect to be exactly identical (initializing a BertForSequenceClassification model from a BertForSequenceClassification model).\n"
          ],
          "name": "stderr"
        },
        {
          "output_type": "stream",
          "text": [
            "Free Shipping & Handling on all orders over $74 within the U.S\n",
            "Free Shipping & Handling on all orders over $74\n",
            "Free Shipping & Handling on all orders over $74 in the U.S.\n",
            "Your cart is empty.\n",
            "Summarizing URL via BERT: https://www.thecbdistillery.com/\n"
          ],
          "name": "stdout"
        },
        {
          "output_type": "stream",
          "text": [
            "Some weights of the model checkpoint at bert-large-uncased were not used when initializing BertModel: ['cls.predictions.bias', 'cls.predictions.transform.LayerNorm.bias', 'cls.predictions.transform.dense.weight', 'cls.predictions.transform.LayerNorm.weight', 'cls.seq_relationship.bias', 'cls.predictions.transform.dense.bias', 'cls.seq_relationship.weight', 'cls.predictions.decoder.weight']\n",
            "- This IS expected if you are initializing BertModel from the checkpoint of a model trained on another task or with another architecture (e.g. initializing a BertForSequenceClassification model from a BertForPreTraining model).\n",
            "- This IS NOT expected if you are initializing BertModel from the checkpoint of a model that you expect to be exactly identical (initializing a BertForSequenceClassification model from a BertForSequenceClassification model).\n"
          ],
          "name": "stderr"
        },
        {
          "output_type": "stream",
          "text": [
            "+ FREE Shipping with CBDistillery™ Subscriptions\n",
            "CBD helps with pain after physical activity.** CBG is the \"mother,\" or \"stem cell,\" cannabinoid, which creates all other cannabinoids such as CBD.\n",
            "error while fetching https://medterracbd.com/\n",
            "Summarizing URL via BERT: https://medterracbd.com/\n"
          ],
          "name": "stdout"
        },
        {
          "output_type": "stream",
          "text": [
            "Some weights of the model checkpoint at bert-large-uncased were not used when initializing BertModel: ['cls.predictions.bias', 'cls.predictions.transform.LayerNorm.bias', 'cls.predictions.transform.dense.weight', 'cls.predictions.transform.LayerNorm.weight', 'cls.seq_relationship.bias', 'cls.predictions.transform.dense.bias', 'cls.seq_relationship.weight', 'cls.predictions.decoder.weight']\n",
            "- This IS expected if you are initializing BertModel from the checkpoint of a model trained on another task or with another architecture (e.g. initializing a BertForSequenceClassification model from a BertForPreTraining model).\n",
            "- This IS NOT expected if you are initializing BertModel from the checkpoint of a model that you expect to be exactly identical (initializing a BertForSequenceClassification model from a BertForSequenceClassification model).\n"
          ],
          "name": "stderr"
        },
        {
          "output_type": "stream",
          "text": [
            "+ FREE Shipping with CBDistillery™ Subscriptions\n",
            "CBD helps with pain after physical activity.** CBG is the \"mother,\" or \"stem cell,\" cannabinoid, which creates all other cannabinoids such as CBD.\n",
            "Summarizing URL via BERT: https://www.diamondcbd.com/\n"
          ],
          "name": "stdout"
        },
        {
          "output_type": "stream",
          "text": [
            "Some weights of the model checkpoint at bert-large-uncased were not used when initializing BertModel: ['cls.predictions.bias', 'cls.predictions.transform.LayerNorm.bias', 'cls.predictions.transform.dense.weight', 'cls.predictions.transform.LayerNorm.weight', 'cls.seq_relationship.bias', 'cls.predictions.transform.dense.bias', 'cls.seq_relationship.weight', 'cls.predictions.decoder.weight']\n",
            "- This IS expected if you are initializing BertModel from the checkpoint of a model trained on another task or with another architecture (e.g. initializing a BertForSequenceClassification model from a BertForPreTraining model).\n",
            "- This IS NOT expected if you are initializing BertModel from the checkpoint of a model that you expect to be exactly identical (initializing a BertForSequenceClassification model from a BertForSequenceClassification model).\n"
          ],
          "name": "stderr"
        },
        {
          "output_type": "stream",
          "text": [
            "Chill Plus CBD & Delta-8 Extreme Tropical Mix Gummies - 1250X\n",
            "$54.00\n",
            "$119.99\n",
            "55%\n",
            "Details\n",
            "Promotions and coupons cannot be combined. - 1\n",
            "- 2\n",
            "- 3\n",
            "- 4\n",
            "- 5\n",
            "Chill Plus Delta-8 Vape Cartridge - Blue Dream - 900mg (1ml)\n",
            "$26.10\n",
            "$86.99\n",
            "70%\n",
            "Details\n",
            "Promotions and coupons cannot be combined.\n",
            "Summarizing URL via BERT: https://www.pluscbdoil.com/\n"
          ],
          "name": "stdout"
        },
        {
          "output_type": "stream",
          "text": [
            "Some weights of the model checkpoint at bert-large-uncased were not used when initializing BertModel: ['cls.predictions.bias', 'cls.predictions.transform.LayerNorm.bias', 'cls.predictions.transform.dense.weight', 'cls.predictions.transform.LayerNorm.weight', 'cls.seq_relationship.bias', 'cls.predictions.transform.dense.bias', 'cls.seq_relationship.weight', 'cls.predictions.decoder.weight']\n",
            "- This IS expected if you are initializing BertModel from the checkpoint of a model trained on another task or with another architecture (e.g. initializing a BertForSequenceClassification model from a BertForPreTraining model).\n",
            "- This IS NOT expected if you are initializing BertModel from the checkpoint of a model that you expect to be exactly identical (initializing a BertForSequenceClassification model from a BertForSequenceClassification model).\n"
          ],
          "name": "stderr"
        },
        {
          "output_type": "stream",
          "text": [
            "STRESS SUPPORT\n",
            "Emerging research suggests that CBD Oil promotes a healthy endocannabinoid system (ECS).\n",
            "Summarizing URL via BERT: https://bluebirdbotanicals.com/\n"
          ],
          "name": "stdout"
        },
        {
          "output_type": "stream",
          "text": [
            "Some weights of the model checkpoint at bert-large-uncased were not used when initializing BertModel: ['cls.predictions.bias', 'cls.predictions.transform.LayerNorm.bias', 'cls.predictions.transform.dense.weight', 'cls.predictions.transform.LayerNorm.weight', 'cls.seq_relationship.bias', 'cls.predictions.transform.dense.bias', 'cls.seq_relationship.weight', 'cls.predictions.decoder.weight']\n",
            "- This IS expected if you are initializing BertModel from the checkpoint of a model trained on another task or with another architecture (e.g. initializing a BertForSequenceClassification model from a BertForPreTraining model).\n",
            "- This IS NOT expected if you are initializing BertModel from the checkpoint of a model that you expect to be exactly identical (initializing a BertForSequenceClassification model from a BertForSequenceClassification model).\n"
          ],
          "name": "stderr"
        },
        {
          "output_type": "stream",
          "text": [
            "Bluebird’s new CBD-infused gummies offer a delicious CBD experience that can fit seamlessly into any part of your daily routine. Full-Spectrum Hemp Extract - A full-spectrum hemp extract describes a product with the entire array of 100+ cannabinoids found in the cannabis plant plus a wide range of terpenes.\n",
            "Summarizing URL via BERT: https://www.elixinol.com/\n"
          ],
          "name": "stdout"
        },
        {
          "output_type": "stream",
          "text": [
            "Some weights of the model checkpoint at bert-large-uncased were not used when initializing BertModel: ['cls.predictions.bias', 'cls.predictions.transform.LayerNorm.bias', 'cls.predictions.transform.dense.weight', 'cls.predictions.transform.LayerNorm.weight', 'cls.seq_relationship.bias', 'cls.predictions.transform.dense.bias', 'cls.seq_relationship.weight', 'cls.predictions.decoder.weight']\n",
            "- This IS expected if you are initializing BertModel from the checkpoint of a model trained on another task or with another architecture (e.g. initializing a BertForSequenceClassification model from a BertForPreTraining model).\n",
            "- This IS NOT expected if you are initializing BertModel from the checkpoint of a model that you expect to be exactly identical (initializing a BertForSequenceClassification model from a BertForSequenceClassification model).\n"
          ],
          "name": "stderr"
        },
        {
          "output_type": "stream",
          "text": [
            "About Our Products\n",
            "CBD Oils\n",
            "Our CBD Oil Tinctures start with high-quality 100% hemp extract at the base, then are blended with MCT coconut oil and other complimentary ingredients to boost delivery and efficacy. All our CBD oils are vegan, gluten-free with zero harsh solvents or toxic chemicals.\n",
            "Summarizing URL via BERT: https://www.lazarusnaturals.com/\n"
          ],
          "name": "stdout"
        },
        {
          "output_type": "stream",
          "text": [
            "Some weights of the model checkpoint at bert-large-uncased were not used when initializing BertModel: ['cls.predictions.bias', 'cls.predictions.transform.LayerNorm.bias', 'cls.predictions.transform.dense.weight', 'cls.predictions.transform.LayerNorm.weight', 'cls.seq_relationship.bias', 'cls.predictions.transform.dense.bias', 'cls.seq_relationship.weight', 'cls.predictions.decoder.weight']\n",
            "- This IS expected if you are initializing BertModel from the checkpoint of a model trained on another task or with another architecture (e.g. initializing a BertForSequenceClassification model from a BertForPreTraining model).\n",
            "- This IS NOT expected if you are initializing BertModel from the checkpoint of a model that you expect to be exactly identical (initializing a BertForSequenceClassification model from a BertForSequenceClassification model).\n"
          ],
          "name": "stderr"
        },
        {
          "output_type": "stream",
          "text": [
            "Recommended Products\n",
            "Assistance Program\n",
            "To ensure access to CBD, we provide a 60% discount to veterans and individuals with disabilities, or low-income households, because everyone deserves to experience the power of CBD. Learn More\n",
            "What our customers say\n",
            "“The CBD Body and Massage Oil has proven to be a great tool to help my clients feel calm and relaxed during a session.\n",
            "Summarizing URL via BERT: https://cbdfx.com/\n"
          ],
          "name": "stdout"
        },
        {
          "output_type": "stream",
          "text": [
            "Some weights of the model checkpoint at bert-large-uncased were not used when initializing BertModel: ['cls.predictions.bias', 'cls.predictions.transform.LayerNorm.bias', 'cls.predictions.transform.dense.weight', 'cls.predictions.transform.LayerNorm.weight', 'cls.seq_relationship.bias', 'cls.predictions.transform.dense.bias', 'cls.seq_relationship.weight', 'cls.predictions.decoder.weight']\n",
            "- This IS expected if you are initializing BertModel from the checkpoint of a model trained on another task or with another architecture (e.g. initializing a BertForSequenceClassification model from a BertForPreTraining model).\n",
            "- This IS NOT expected if you are initializing BertModel from the checkpoint of a model that you expect to be exactly identical (initializing a BertForSequenceClassification model from a BertForSequenceClassification model).\n"
          ],
          "name": "stderr"
        },
        {
          "output_type": "stream",
          "text": [
            "[emailprotected]\n",
            "+1 (888) 991-7471\n",
            "From seed to sale, our pure, single-pass CO2 extraction method produces an ultra-premium CBD oil from some of the finest organic hemp plants in the world — guaranteeing a safe and high-quality experience for maximum benefit. It is especially important for those who are pregnant, nursing, chronically ill, elderly or under the age of 18 to discuss the use of these products with a healthcare professional prior to using these products.\n",
            "Summarizing URL via BERT: https://greenroads.com/\n"
          ],
          "name": "stdout"
        },
        {
          "output_type": "stream",
          "text": [
            "Some weights of the model checkpoint at bert-large-uncased were not used when initializing BertModel: ['cls.predictions.bias', 'cls.predictions.transform.LayerNorm.bias', 'cls.predictions.transform.dense.weight', 'cls.predictions.transform.LayerNorm.weight', 'cls.seq_relationship.bias', 'cls.predictions.transform.dense.bias', 'cls.seq_relationship.weight', 'cls.predictions.decoder.weight']\n",
            "- This IS expected if you are initializing BertModel from the checkpoint of a model trained on another task or with another architecture (e.g. initializing a BertForSequenceClassification model from a BertForPreTraining model).\n",
            "- This IS NOT expected if you are initializing BertModel from the checkpoint of a model that you expect to be exactly identical (initializing a BertForSequenceClassification model from a BertForSequenceClassification model).\n"
          ],
          "name": "stderr"
        },
        {
          "output_type": "stream",
          "text": [
            "Green Roads CBD: Award winning hemp products for a healthier you\n",
            "THE GREEN ROADS difference\n",
            "Green Roads has set the gold standard for CBD product quality since the earliest days of the industry. Our journey began in 2013 when Laura, after a career spent as a pharmacist, made simple CBD oils and topicals to help her friends and family find relief from everyday challenges.\n"
          ],
          "name": "stdout"
        }
      ]
    },
    {
      "cell_type": "markdown",
      "metadata": {
        "id": "APMQyq_-tAl8"
      },
      "source": [
        "### Storing data\n",
        "\n",
        "#####In the following cells we are going to save a CSV containing for each url the summaries generated by the different algos.italicized text"
      ]
    },
    {
      "cell_type": "code",
      "metadata": {
        "id": "bEJp5QZrtC66"
      },
      "source": [
        "# Save results to the output CSV\n",
        "df_new = pd.DataFrame(data_x, columns=[\"url\", \"BERT\"])"
      ],
      "execution_count": null,
      "outputs": []
    },
    {
      "cell_type": "code",
      "metadata": {
        "colab": {
          "base_uri": "https://localhost:8080/",
          "height": 206
        },
        "id": "gi3Swsx3tPsk",
        "outputId": "5255ed18-2448-4dc0-d73e-4c62a5ab9c76"
      },
      "source": [
        "df_new.head()"
      ],
      "execution_count": null,
      "outputs": [
        {
          "output_type": "execute_result",
          "data": {
            "text/html": [
              "<div>\n",
              "<style scoped>\n",
              "    .dataframe tbody tr th:only-of-type {\n",
              "        vertical-align: middle;\n",
              "    }\n",
              "\n",
              "    .dataframe tbody tr th {\n",
              "        vertical-align: top;\n",
              "    }\n",
              "\n",
              "    .dataframe thead th {\n",
              "        text-align: right;\n",
              "    }\n",
              "</style>\n",
              "<table border=\"1\" class=\"dataframe\">\n",
              "  <thead>\n",
              "    <tr style=\"text-align: right;\">\n",
              "      <th></th>\n",
              "      <th>url</th>\n",
              "      <th>BERT</th>\n",
              "    </tr>\n",
              "  </thead>\n",
              "  <tbody>\n",
              "    <tr>\n",
              "      <th>0</th>\n",
              "      <td>https://lordjones.com/</td>\n",
              "      <td>Best Sellers\\n- Travel-Size High CBD Formula B...</td>\n",
              "    </tr>\n",
              "    <tr>\n",
              "      <th>1</th>\n",
              "      <td>https://www.charlottesweb.com/</td>\n",
              "      <td>Free Shipping &amp; Handling on all orders over $7...</td>\n",
              "    </tr>\n",
              "    <tr>\n",
              "      <th>2</th>\n",
              "      <td>https://www.thecbdistillery.com/</td>\n",
              "      <td>+ FREE Shipping with CBDistillery™ Subscriptio...</td>\n",
              "    </tr>\n",
              "    <tr>\n",
              "      <th>3</th>\n",
              "      <td>https://medterracbd.com/</td>\n",
              "      <td>+ FREE Shipping with CBDistillery™ Subscriptio...</td>\n",
              "    </tr>\n",
              "    <tr>\n",
              "      <th>4</th>\n",
              "      <td>https://www.diamondcbd.com/</td>\n",
              "      <td>Chill Plus CBD &amp; Delta-8 Extreme Tropical Mix ...</td>\n",
              "    </tr>\n",
              "  </tbody>\n",
              "</table>\n",
              "</div>"
            ],
            "text/plain": [
              "                                url                                               BERT\n",
              "0            https://lordjones.com/  Best Sellers\\n- Travel-Size High CBD Formula B...\n",
              "1    https://www.charlottesweb.com/  Free Shipping & Handling on all orders over $7...\n",
              "2  https://www.thecbdistillery.com/  + FREE Shipping with CBDistillery™ Subscriptio...\n",
              "3          https://medterracbd.com/  + FREE Shipping with CBDistillery™ Subscriptio...\n",
              "4       https://www.diamondcbd.com/  Chill Plus CBD & Delta-8 Extreme Tropical Mix ..."
            ]
          },
          "metadata": {},
          "execution_count": 59
        }
      ]
    },
    {
      "cell_type": "code",
      "metadata": {
        "colab": {
          "base_uri": "https://localhost:8080/",
          "height": 52
        },
        "id": "sU2Ri1WztWP3",
        "outputId": "13d67764-f5ea-435a-fee4-b501e98318e5"
      },
      "source": [
        "from google.colab import files\n",
        "\n",
        "# We set the variable forthe name of the CSV where we will store the new MDs \n",
        "outputcsv = 'Metadata.csv'\n",
        "print(\"output csv name: \", outputcsv)\n",
        "\n",
        "df_new.to_csv(outputcsv, encoding='utf-8', index=False)\n",
        "print(\"Saving results on:\", outputcsv)\n",
        "files.download(outputcsv)"
      ],
      "execution_count": null,
      "outputs": [
        {
          "output_type": "stream",
          "text": [
            "output csv name:  Metadata.csv\n",
            "Saving results on: Metadata.csv\n"
          ],
          "name": "stdout"
        },
        {
          "output_type": "display_data",
          "data": {
            "application/javascript": [
              "\n",
              "    async function download(id, filename, size) {\n",
              "      if (!google.colab.kernel.accessAllowed) {\n",
              "        return;\n",
              "      }\n",
              "      const div = document.createElement('div');\n",
              "      const label = document.createElement('label');\n",
              "      label.textContent = `Downloading \"${filename}\": `;\n",
              "      div.appendChild(label);\n",
              "      const progress = document.createElement('progress');\n",
              "      progress.max = size;\n",
              "      div.appendChild(progress);\n",
              "      document.body.appendChild(div);\n",
              "\n",
              "      const buffers = [];\n",
              "      let downloaded = 0;\n",
              "\n",
              "      const channel = await google.colab.kernel.comms.open(id);\n",
              "      // Send a message to notify the kernel that we're ready.\n",
              "      channel.send({})\n",
              "\n",
              "      for await (const message of channel.messages) {\n",
              "        // Send a message to notify the kernel that we're ready.\n",
              "        channel.send({})\n",
              "        if (message.buffers) {\n",
              "          for (const buffer of message.buffers) {\n",
              "            buffers.push(buffer);\n",
              "            downloaded += buffer.byteLength;\n",
              "            progress.value = downloaded;\n",
              "          }\n",
              "        }\n",
              "      }\n",
              "      const blob = new Blob(buffers, {type: 'application/binary'});\n",
              "      const a = document.createElement('a');\n",
              "      a.href = window.URL.createObjectURL(blob);\n",
              "      a.download = filename;\n",
              "      div.appendChild(a);\n",
              "      a.click();\n",
              "      div.remove();\n",
              "    }\n",
              "  "
            ],
            "text/plain": [
              "<IPython.core.display.Javascript object>"
            ]
          },
          "metadata": {}
        },
        {
          "output_type": "display_data",
          "data": {
            "application/javascript": [
              "download(\"download_08026af8-526d-4733-b49b-04c136a76055\", \"Metadata.csv\", 3654)"
            ],
            "text/plain": [
              "<IPython.core.display.Javascript object>"
            ]
          },
          "metadata": {}
        }
      ]
    }
  ]
}